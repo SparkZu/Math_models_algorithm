{
 "cells": [
  {
   "cell_type": "code",
   "execution_count": 1,
   "metadata": {},
   "outputs": [],
   "source": [
    "import numpy as np\n"
   ]
  },
  {
   "cell_type": "code",
   "execution_count": 2,
   "metadata": {},
   "outputs": [],
   "source": [
    "states={\n",
    "    0:\"burger\",\n",
    "    1:\"pizza\",\n",
    "    2:\"hotdog\"\n",
    "}\n",
    "A=np.array([[0.2,0.6,0.2],[0.3,0,0.7],[0.5,0,0.5]])\n"
   ]
  },
  {
   "cell_type": "code",
   "execution_count": 3,
   "metadata": {},
   "outputs": [
    {
     "name": "stdout",
     "output_type": "stream",
     "text": [
      "\\pi = [0.351323 0.211295 0.437383]\n"
     ]
    }
   ],
   "source": [
    "steps=10**6\n",
    "start_state=0\n",
    "pi=np.array([0,0,0])\n",
    "pi[start_state]=1\n",
    "prev_state=start_state\n",
    "i=0\n",
    "while i<steps:\n",
    "    curr_state=np.random.choice([0,1,2],p=A[prev_state])\n",
    "    pi[curr_state]+=1\n",
    "    prev_state=curr_state\n",
    "    i+=1\n",
    "print(\"\\pi =\",pi/steps)"
   ]
  },
  {
   "cell_type": "code",
   "execution_count": 5,
   "metadata": {},
   "outputs": [
    {
     "name": "stdout",
     "output_type": "stream",
     "text": [
      "A^n [[0.35211268 0.21126761 0.43661972]\n",
      " [0.35211268 0.21126761 0.43661972]\n",
      " [0.35211268 0.21126761 0.43661972]] \n",
      "\n",
      "A [0.35211268 0.21126761 0.43661972]\n"
     ]
    }
   ],
   "source": [
    "steps=10**3\n",
    "A_n=A\n",
    "i=0\n",
    "while i<steps:\n",
    "    A_n=np.matmul(A_n,A)\n",
    "    i+=1\n",
    "print(\"A^n\",A_n,\"\\n\")\n",
    "print(\"A\",A_n[0])"
   ]
  },
  {
   "cell_type": "markdown",
   "metadata": {},
   "source": [
    "## Finding Left Eigen Vector"
   ]
  },
  {
   "cell_type": "code",
   "execution_count": 7,
   "metadata": {},
   "outputs": [
    {
     "name": "stdout",
     "output_type": "stream",
     "text": [
      "[[-0.58746336+0.j         -0.16984156-0.35355339j -0.16984156+0.35355339j]\n",
      " [-0.35247801+0.j          0.67936622+0.j          0.67936622-0.j        ]\n",
      " [-0.72845456+0.j         -0.50952467+0.35355339j -0.50952467-0.35355339j]]\n",
      "[ 1.  +0.j        -0.15+0.3122499j -0.15-0.3122499j]\n"
     ]
    }
   ],
   "source": [
    "import scipy.linalg \n",
    "\n",
    "values,left=scipy.linalg.eig(A,right=False,left=True)\n",
    "\n",
    "print(left)\n",
    "print(values)"
   ]
  },
  {
   "cell_type": "code",
   "execution_count": null,
   "metadata": {},
   "outputs": [],
   "source": []
  }
 ],
 "metadata": {
  "kernelspec": {
   "display_name": "Python 3.9.11 ('pytorch')",
   "language": "python",
   "name": "python3"
  },
  "language_info": {
   "codemirror_mode": {
    "name": "ipython",
    "version": 3
   },
   "file_extension": ".py",
   "mimetype": "text/x-python",
   "name": "python",
   "nbconvert_exporter": "python",
   "pygments_lexer": "ipython3",
   "version": "3.9.11"
  },
  "orig_nbformat": 4,
  "vscode": {
   "interpreter": {
    "hash": "6909ce8497f369b595537a988992cbe8e27b364caf1ed1858f86404ffdec5440"
   }
  }
 },
 "nbformat": 4,
 "nbformat_minor": 2
}
