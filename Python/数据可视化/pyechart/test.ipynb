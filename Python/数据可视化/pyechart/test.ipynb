{
 "cells": [
  {
   "cell_type": "code",
   "execution_count": 1,
   "metadata": {},
   "outputs": [
    {
     "data": {
      "text/plain": [
       "'c:\\\\Users\\\\ZuYong\\\\Documents\\\\VScode\\\\Math_models_algorithm\\\\Python\\\\pyechart\\\\render.html'"
      ]
     },
     "execution_count": 1,
     "metadata": {},
     "output_type": "execute_result"
    }
   ],
   "source": [
    "\n",
    "from pyecharts.charts import Bar\n",
    "from pyecharts import options as opts\n",
    "\n",
    "from pyecharts.globals import ThemeType\n",
    "\n",
    "bar=(\n",
    "    Bar(init_opts=opts.InitOpts(theme=ThemeType.LIGHT))\n",
    "    .add_xaxis([\"衬衫\",\"羊毛衫\",\"雪纺衫\",\"裤子\",\"高跟鞋\"])\n",
    "    .add_yaxis(\"商家A\",[5,23,23,10,12,90])\n",
    "    .add_yaxis(\"商家B\",[15,6,45,20,35,66])\n",
    "    .set_global_opts(title_opts=opts.TitleOpts(title=\"主标题\",subtitle=\"副标题\"))\n",
    ")\n",
    "bar.render()"
   ]
  }
 ],
 "metadata": {
  "kernelspec": {
   "display_name": "Python 3.9.11 ('pytorch')",
   "language": "python",
   "name": "python3"
  },
  "language_info": {
   "codemirror_mode": {
    "name": "ipython",
    "version": 3
   },
   "file_extension": ".py",
   "mimetype": "text/x-python",
   "name": "python",
   "nbconvert_exporter": "python",
   "pygments_lexer": "ipython3",
   "version": "3.9.11"
  },
  "orig_nbformat": 4,
  "vscode": {
   "interpreter": {
    "hash": "6909ce8497f369b595537a988992cbe8e27b364caf1ed1858f86404ffdec5440"
   }
  }
 },
 "nbformat": 4,
 "nbformat_minor": 2
}
