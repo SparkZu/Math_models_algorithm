{
 "cells": [
  {
   "cell_type": "markdown",
   "metadata": {},
   "source": [
    "# Gurobi"
   ]
  },
  {
   "cell_type": "code",
   "execution_count": 3,
   "metadata": {},
   "outputs": [],
   "source": [
    "from gurobipy import *\n",
    "import pandas as pd\n",
    "import numpy as pd\n",
    "import matplotlib.pyplot as plt"
   ]
  },
  {
   "cell_type": "markdown",
   "metadata": {},
   "source": [
    "## example1"
   ]
  },
  {
   "cell_type": "markdown",
   "metadata": {},
   "source": [
    "max $$ x+y+2z$$\n",
    "\n",
    "s.t. $$\n",
    "    x+2y+3z<=4\\\\\n",
    "    x+y>=1\n",
    "    $$"
   ]
  },
  {
   "cell_type": "code",
   "execution_count": 7,
   "metadata": {},
   "outputs": [
    {
     "name": "stdout",
     "output_type": "stream",
     "text": [
      "Gurobi Optimizer version 9.5.2 build v9.5.2rc0 (win64)\n",
      "Thread count: 6 physical cores, 12 logical processors, using up to 12 threads\n",
      "Optimize a model with 2 rows, 3 columns and 5 nonzeros\n",
      "Model fingerprint: 0x98886187\n",
      "Variable types: 0 continuous, 3 integer (3 binary)\n",
      "Coefficient statistics:\n",
      "  Matrix range     [1e+00, 3e+00]\n",
      "  Objective range  [1e+00, 2e+00]\n",
      "  Bounds range     [1e+00, 1e+00]\n",
      "  RHS range        [1e+00, 4e+00]\n",
      "Found heuristic solution: objective 2.0000000\n",
      "Presolve removed 2 rows and 3 columns\n",
      "Presolve time: 0.00s\n",
      "Presolve: All rows and columns removed\n",
      "\n",
      "Explored 0 nodes (0 simplex iterations) in 0.01 seconds (0.00 work units)\n",
      "Thread count was 1 (of 12 available processors)\n",
      "\n",
      "Solution count 2: 3 2 \n",
      "\n",
      "Optimal solution found (tolerance 1.00e-04)\n",
      "Best objective 3.000000000000e+00, best bound 3.000000000000e+00, gap 0.0000%\n",
      "x:1.0\n",
      "y:0.0\n",
      "z:1.0\n"
     ]
    }
   ],
   "source": [
    "model=Model(\"example1\")\n",
    "\n",
    "x=model.addVar(vtype=GRB.BINARY,name='x')\n",
    "y=model.addVar(vtype=GRB.BINARY,name='y')\n",
    "z=model.addVar(vtype=GRB.BINARY,name='z')\n",
    "\n",
    "model.setObjective(x+y+2*z,GRB.MAXIMIZE)\n",
    "\n",
    "model.addConstr(x+2*y+3*z<=4,'c1')\n",
    "model.addConstr(x+y>=1,'c2')\n",
    "\n",
    "model.optimize()\n",
    "\n",
    "for v in model.getVars():\n",
    "    print(f\"{v.VarName}:{v.x}\")\n"
   ]
  },
  {
   "cell_type": "markdown",
   "metadata": {},
   "source": [
    "## food"
   ]
  },
  {
   "cell_type": "code",
   "execution_count": 14,
   "metadata": {},
   "outputs": [
    {
     "name": "stdout",
     "output_type": "stream",
     "text": [
      "Gurobi Optimizer version 9.5.2 build v9.5.2rc0 (win64)\n",
      "Thread count: 6 physical cores, 12 logical processors, using up to 12 threads\n",
      "Optimize a model with 4 rows, 12 columns and 39 nonzeros\n",
      "Model fingerprint: 0xe211d8b6\n",
      "Coefficient statistics:\n",
      "  Matrix range     [1e+00, 2e+03]\n",
      "  Objective range  [9e-01, 3e+00]\n",
      "  Bounds range     [7e+01, 2e+03]\n",
      "  RHS range        [7e+01, 2e+03]\n",
      "Presolve removed 0 rows and 2 columns\n",
      "Presolve time: 0.01s\n",
      "Presolved: 4 rows, 10 columns, 37 nonzeros\n",
      "\n",
      "Iteration    Objective       Primal Inf.    Dual Inf.      Time\n",
      "       0    0.0000000e+00   1.472500e+02   0.000000e+00      0s\n",
      "       4    1.1828861e+01   0.000000e+00   0.000000e+00      0s\n",
      "\n",
      "Solved in 4 iterations and 0.01 seconds (0.00 work units)\n",
      "Optimal objective  1.182886111e+01\n",
      "11.828861111111111,<bound method tupledict.keys of {'hamburger': <gurobi.Var buy[hamburger] (value 0.6045138888888888)>, 'chicken': <gurobi.Var buy[chicken] (value 0.0)>, 'hotdog': <gurobi.Var buy[hotdog] (value 0.0)>, 'fries': <gurobi.Var buy[fries] (value 0.0)>, 'macaroni': <gurobi.Var buy[macaroni] (value 0.0)>, 'pizza': <gurobi.Var buy[pizza] (value 0.0)>, 'salad': <gurobi.Var buy[salad] (value 0.0)>, 'milk': <gurobi.Var buy[milk] (value 6.970138888888889)>, 'ice cream': <gurobi.Var buy[ice cream] (value 2.5913194444444447)>}>\n"
     ]
    }
   ],
   "source": [
    "\n",
    "### addVars\n",
    "### addConstrs\n",
    "\n",
    "model=Model(\"food_supply\")\n",
    "category,minNutrition,maxNutrition=multidict({\n",
    "        'calories':[1800,2000],\n",
    "        'protein':[91,GRB.INFINITY],\n",
    "        'fat':[0,65],\n",
    "        'sodium':[0,1779]\n",
    "    })\n",
    "foods,cost=multidict({\n",
    "    'hamburger':2.49,\n",
    "    'chicken':2.89,\n",
    "    'hotdog':1.50,\n",
    "    'fries':1.89,\n",
    "    'macaroni':2.09,\n",
    "    'pizza':1.99,\n",
    "    'salad':2.49,\n",
    "    'milk':0.89,\n",
    "    'ice cream':1.59\n",
    "})\n",
    "nutritionValue={\n",
    "    ('hamburger','calories'):410,\n",
    "    ('hamburger','protein'):24,\n",
    "    ('hamburger','fat'):26,\n",
    "    ('hamburger','sodium'):730,\n",
    "\n",
    "    ('chicken','calories'):420,\n",
    "    ('chicken','protein'):32,\n",
    "    ('chicken','fat'):10,\n",
    "    ('chicken','sodium'):1190,\n",
    "\n",
    "    ('hotdog','calories'):560,\n",
    "    ('hotdog','protein'):20,\n",
    "    ('hotdog','fat'):32,\n",
    "    ('hotdog','sodium'):1800,\n",
    "\n",
    "    ('fries','calories'):380,\n",
    "    ('fries','protein'):4,\n",
    "    ('fries','fat'):19,\n",
    "    ('fries','sodium'):270,\n",
    "\n",
    "    ('macaroni','calories'):320,\n",
    "    ('macaroni','protein'):12,\n",
    "    ('macaroni','fat'):10,\n",
    "    ('macaroni','sodium'):930,\n",
    "\n",
    "    ('pizza','calories'):320,\n",
    "    ('pizza','protein'):15,\n",
    "    ('pizza','fat'):12,\n",
    "    ('pizza','sodium'):820,\n",
    "\n",
    "    ('salad','calories'):320,\n",
    "    ('salad','protein'):31,\n",
    "    ('salad','fat'):12,\n",
    "    ('salad','sodium'):1230,\n",
    "\n",
    "    ('milk','calories'):100,\n",
    "    ('milk','protein'):8,\n",
    "    ('milk','fat'):2.5,\n",
    "    ('milk','sodium'):125,\n",
    "\n",
    "    ('ice cream','calories'):330,\n",
    "    ('ice cream','protein'):8,\n",
    "    ('ice cream','fat'):10,\n",
    "    ('ice cream','sodium'):180\n",
    "}\n",
    "buy=model.addVars(foods,name='buy')\n",
    "\n",
    "model.setObjective(buy.prod(cost),GRB.MINIMIZE)#对应相乘\n",
    "\n",
    "model.addConstrs((quicksum(nutritionValue[f,c]*buy[f] for f in foods)==[minNutrition[c],maxNutrition[c]] for c in category),'_')\n",
    "\n",
    "model.optimize()\n",
    "\n",
    "print(f\"{model.ObjVal},{buy.keys}\")"
   ]
  },
  {
   "cell_type": "markdown",
   "metadata": {},
   "source": [
    "## 参数"
   ]
  },
  {
   "cell_type": "markdown",
   "metadata": {},
   "source": [
    "`TimeLimit`   `设定时间`\n",
    "`SolutionLimit` 可行解数量"
   ]
  },
  {
   "cell_type": "code",
   "execution_count": null,
   "metadata": {},
   "outputs": [],
   "source": [
    "#!/usr/bin/env python3.7\n",
    "\n",
    "import sys\n",
    "import gurobipy as gp\n",
    "\n",
    "\n",
    "if len(sys.argv) < 2:\n",
    "    print('Usage: params.py filename')\n",
    "    sys.exit(0)\n",
    "\n",
    "\n",
    "# Read model and verify that it is a MIP\n",
    "m = gp.read(sys.argv[1])\n",
    "if m.IsMIP == 0:\n",
    "    print('The model is not an integer program')\n",
    "    sys.exit(1)\n",
    "\n",
    "# Set a 2 second time limit\n",
    "m.Params.TimeLimit = 2\n",
    "\n",
    "# Now solve the model with different values of MIPFocus\n",
    "bestModel = m.copy()\n",
    "bestModel.optimize()\n",
    "for i in range(1, 4):\n",
    "    m.reset()\n",
    "    m.Params.MIPFocus = i\n",
    "    m.optimize()\n",
    "    if bestModel.MIPGap > m.MIPGap:\n",
    "        bestModel, m = m, bestModel  # swap models\n",
    "\n",
    "# Finally, delete the extra model, reset the time limit and\n",
    "# continue to solve the best model to optimality\n",
    "del m\n",
    "bestModel.Params.TimeLimit = float('inf')\n",
    "bestModel.optimize()\n",
    "print('Solved with MIPFocus: %d' % bestModel.Params.MIPFocus)"
   ]
  },
  {
   "cell_type": "markdown",
   "metadata": {},
   "source": [
    "## 广义约束"
   ]
  },
  {
   "cell_type": "code",
   "execution_count": 18,
   "metadata": {},
   "outputs": [
    {
     "name": "stdout",
     "output_type": "stream",
     "text": [
      "Gurobi Optimizer version 9.5.2 build v9.5.2rc0 (win64)\n",
      "Thread count: 6 physical cores, 12 logical processors, using up to 12 threads\n",
      "Optimize a model with 0 rows, 3 columns and 0 nonzeros\n",
      "Model fingerprint: 0x532d5078\n",
      "Model has 1 general constraint\n",
      "Variable types: 3 continuous, 0 integer (0 binary)\n",
      "Coefficient statistics:\n",
      "  Matrix range     [0e+00, 0e+00]\n",
      "  Objective range  [1e+00, 1e+00]\n",
      "  Bounds range     [0e+00, 0e+00]\n",
      "  RHS range        [0e+00, 0e+00]\n",
      "Found heuristic solution: objective 0.0000000\n",
      "\n",
      "Explored 0 nodes (0 simplex iterations) in 0.01 seconds (0.00 work units)\n",
      "Thread count was 1 (of 12 available processors)\n",
      "\n",
      "Solution count 1: 0 \n",
      "\n",
      "Optimal solution found (tolerance 1.00e-04)\n",
      "Best objective 0.000000000000e+00, best bound 0.000000000000e+00, gap 0.0000%\n"
     ]
    }
   ],
   "source": [
    "#m.addGenConstrMax \n",
    "model=Model(\"Max\")\n",
    "x=model.addVar(obj=1,vtype=GRB.CONTINUOUS,name='x')\n",
    "y=model.addVar(obj=1,vtype=GRB.CONTINUOUS,name='y')\n",
    "z=model.addVar(obj=1,vtype=GRB.CONTINUOUS,name='z')\n",
    "\n",
    "# model.addGenConstrMax(z,[x,y,3],name='maxconstr')\n",
    "# model.addGenConstrMin(z,[x,y,3],name='min')\n",
    "\n",
    "#z==max(min)[x,y,3]\n",
    "\n",
    "model.addGenConstrAbs(x,y,name='abs')\n",
    "model.optimize()\n"
   ]
  },
  {
   "cell_type": "markdown",
   "metadata": {},
   "source": [
    "### And Or Indicator Range"
   ]
  },
  {
   "cell_type": "code",
   "execution_count": 31,
   "metadata": {},
   "outputs": [],
   "source": [
    "#And\n",
    "model=Model(\"AndOr\")\n",
    "\n",
    "x=model.addVar(obj=1,vtype=GRB.CONTINUOUS,name='x')\n",
    "y=model.addVar(obj=1,vtype=GRB.CONTINUOUS,name='y')\n",
    "z=model.addVar(obj=1,vtype=GRB.CONTINUOUS,name='z')\n",
    "model.addGenConstrAnd(z,[x,y])\n",
    "\n",
    "# model.addConstr(z==and_(x,y),'and')\n",
    "\n",
    "# model.addGenConstrOr(z,[x,y],'or')\n",
    "# model.addConstr(z==or_(x,y),'or')\n",
    "\n",
    "# model.addGenConstrIndicator(z,True,x+y,GRB.LESS_EQUAL,4,'indicator')\n",
    "# model.addConstr((z==1)>>(x+y<=4),'ind')\n",
    "\n",
    "# model.addRange(x+y+z,5,10,'R')\n",
    "# model.addConstr(x+y+z==[5,12])\n",
    "\n",
    "\n",
    "model.write(\"example.lp\")"
   ]
  },
  {
   "cell_type": "markdown",
   "metadata": {},
   "source": [
    "## 列生产"
   ]
  },
  {
   "cell_type": "markdown",
   "metadata": {},
   "source": [
    "## 波次优化 BatchOpt"
   ]
  },
  {
   "cell_type": "code",
   "execution_count": null,
   "metadata": {},
   "outputs": [],
   "source": []
  }
 ],
 "metadata": {
  "kernelspec": {
   "display_name": "Python 3.9.11 ('pytorch')",
   "language": "python",
   "name": "python3"
  },
  "language_info": {
   "codemirror_mode": {
    "name": "ipython",
    "version": 3
   },
   "file_extension": ".py",
   "mimetype": "text/x-python",
   "name": "python",
   "nbconvert_exporter": "python",
   "pygments_lexer": "ipython3",
   "version": "3.9.11"
  },
  "orig_nbformat": 4,
  "vscode": {
   "interpreter": {
    "hash": "6909ce8497f369b595537a988992cbe8e27b364caf1ed1858f86404ffdec5440"
   }
  }
 },
 "nbformat": 4,
 "nbformat_minor": 2
}
