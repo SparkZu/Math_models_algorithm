{
 "cells": [
  {
   "cell_type": "code",
   "execution_count": 1,
   "metadata": {},
   "outputs": [
    {
     "name": "stdout",
     "output_type": "stream",
     "text": [
      "(569, 30)\n",
      "GridSearchCV(cv=10,\n",
      "             estimator=RandomForestClassifier(n_estimators=39, random_state=90),\n",
      "             param_grid={'max_depth': array([ 1,  2,  3,  4,  5,  6,  7,  8,  9, 10, 11, 12, 13, 14, 15, 16, 17,\n",
      "       18, 19])})\n",
      "{'max_depth': 6}\n"
     ]
    }
   ],
   "source": [
    "from sklearn.datasets import load_breast_cancer\n",
    "from sklearn.ensemble import RandomForestClassifier\n",
    "from sklearn.model_selection import GridSearchCV\n",
    "import matplotlib.pyplot as plt\n",
    "import pandas as pd\n",
    "import numpy as np\n",
    "\n",
    "bc = load_breast_cancer()\n",
    "print(bc.data.shape)\n",
    "param_grid = {'max_depth': np.arange(1, 20, 1)}\n",
    "rfc = RandomForestClassifier(n_estimators=39, random_state=90)\n",
    "GS = GridSearchCV(rfc, param_grid, cv=10)\n",
    "print(GS.fit(bc.data, bc.target))\n",
    "print(GS.best_params_)"
   ]
  }
 ],
 "metadata": {
  "kernelspec": {
   "display_name": "Python 3.9.13 ('pytorch')",
   "language": "python",
   "name": "python3"
  },
  "language_info": {
   "codemirror_mode": {
    "name": "ipython",
    "version": 3
   },
   "file_extension": ".py",
   "mimetype": "text/x-python",
   "name": "python",
   "nbconvert_exporter": "python",
   "pygments_lexer": "ipython3",
   "version": "3.9.13"
  },
  "orig_nbformat": 4,
  "vscode": {
   "interpreter": {
    "hash": "6909ce8497f369b595537a988992cbe8e27b364caf1ed1858f86404ffdec5440"
   }
  }
 },
 "nbformat": 4,
 "nbformat_minor": 2
}
